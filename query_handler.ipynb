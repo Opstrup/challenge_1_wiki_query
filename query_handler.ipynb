{
 "cells": [
  {
   "cell_type": "code",
   "execution_count": 1,
   "metadata": {
    "collapsed": true
   },
   "outputs": [],
   "source": [
    "import re\n",
    "from functools import reduce\n",
    "RESULT_FILE = 'query_results.txt'\n",
    "WORD_FILE_DIR = 'word_files'\n",
    "ARTICLE_DIR = 'articles'"
   ]
  },
  {
   "cell_type": "code",
   "execution_count": 2,
   "metadata": {
    "collapsed": true
   },
   "outputs": [],
   "source": [
    "def write_result_to_file(result):\n",
    "    \"\"\"\n",
    "    \"\"\"\n",
    "    file = open(RESULT_FILE, 'a')\n",
    "    file.write(result + '\\n')\n",
    "    file.close()"
   ]
  },
  {
   "cell_type": "code",
   "execution_count": 3,
   "metadata": {
    "collapsed": true
   },
   "outputs": [],
   "source": [
    "def find_occurrence_in_articles(word):\n",
    "    \"\"\"\n",
    "    Reads in the word file and grabs all the article ids.\n",
    "    Returns all article ids for the word in a list.\n",
    "    If no word found is found None is returned\n",
    "    \"\"\"\n",
    "    article_ids = open(WORD_FILE_DIR + '/' + word + '.txt', 'r').read().split('\\n')\n",
    "    return article_ids[:len(article_ids)-1]"
   ]
  },
  {
   "cell_type": "code",
   "execution_count": 4,
   "metadata": {
    "collapsed": true
   },
   "outputs": [],
   "source": [
    "def find_common_articles(word_list):\n",
    "    \"\"\"\n",
    "    Takes all words in query are argument and find all articels for each word.\n",
    "    Returns a list of articles where all words intersects.\n",
    "    \"\"\"\n",
    "    article_ids_list = []\n",
    "    for word in word_list:\n",
    "        article_ids_list.append(find_occurrence_in_articles(word))\n",
    "        \n",
    "    return find_intersection_of_all_article_ids(article_ids_list)"
   ]
  },
  {
   "cell_type": "code",
   "execution_count": 5,
   "metadata": {
    "collapsed": true
   },
   "outputs": [],
   "source": [
    "def find_intersection_of_all_article_ids(article_ids_list):\n",
    "    \"\"\"\n",
    "    Returns the intersection of all the article ids\n",
    "    \"\"\"\n",
    "    result = reduce(set.intersection, map(set, article_ids_list))\n",
    "    return result"
   ]
  },
  {
   "cell_type": "code",
   "execution_count": 15,
   "metadata": {
    "collapsed": true
   },
   "outputs": [],
   "source": [
    "def query(string, *args):\n",
    "    \"\"\"\n",
    "    Takes a string from the file as first parameter.\n",
    "    The args parameter is the query it self in the format of:\n",
    "    ['cat' [2, 4] 'hat']\n",
    "    \"\"\"\n",
    "    if args is None:\n",
    "        return\n",
    "    \n",
    "    for query in args:\n",
    "        # seperate query into parameters\n",
    "        start_word = query[0]\n",
    "        end_word = query[2]\n",
    "        lower_bound = query[1][0]\n",
    "        upper_bound = query[1][1]\n",
    "        \n",
    "        # build regexs\n",
    "        start_word_regex = r\"\\b\" + re.escape(start_word) + r\"\\b\"\n",
    "        end_word_regex = r\"\\b\" + re.escape(end_word) + r\"\\b\"\n",
    "        \n",
    "        #while the start word is in the string\n",
    "        while string.find(start_word) != -1:\n",
    "            \n",
    "            # find substring positions\n",
    "            start_word_pos = re.search(start_word_regex, string)\n",
    "            end_word_pos = re.search(end_word_regex, string)\n",
    "\n",
    "            if start_word_pos is not None and end_word_pos is not None:\n",
    "                # calc distance between words\n",
    "                char_between = end_word_pos.start() - start_word_pos.end()\n",
    "\n",
    "                #if the substring is within the string\n",
    "                if char_between >= lower_bound and char_between <= upper_bound:\n",
    "                    print(string[start_word_pos.start(): end_word_pos.end()])\n",
    "                    string = string[0:start_word_pos.start()] + string[end_word_pos.end():len(string)]\n",
    "                #if the substring is not in the string remove the s\n",
    "                else:\n",
    "                    string = string[0:start_word_pos.start()] + string[start_word_pos.end():len(string)]\n",
    "            \n",
    "   \n",
    "        ## find substring positions\n",
    "        #start_word_pos = re.search(start_word_regex, string)\n",
    "        #end_word_pos = re.search(end_word_regex, string)\n",
    "\n",
    "        ## calc distance between words\n",
    "        #char_between = end_word_pos.start() - start_word_pos.end()\n",
    "\n",
    "        #if char_between >= lower_bound and char_between <= upper_bound:\n",
    "            #result = string[start_word_pos.start(): end_word_pos.end()]\n",
    "            # write result to file\n",
    "            #write_result_to_file(result)\n",
    "            #print(result)"
   ]
  },
  {
   "cell_type": "code",
   "execution_count": null,
   "metadata": {},
   "outputs": [],
   "source": [
    "test_string = 'I have a really nice cat cat in hat at home cat in hat'\n",
    "test_query = ['cat', [2, 4], 'hat']\n",
    "test_query2 = ['I', [2, 6], 'a']\n",
    "query(test_string, test_query, test_query2)"
   ]
  },
  {
   "cell_type": "code",
   "execution_count": 7,
   "metadata": {
    "collapsed": true
   },
   "outputs": [],
   "source": [
    "def strip_query_intervals(query):\n",
    "    \"\"\"\n",
    "    Will remove any number of substrings from the string which is surrounded by [ ].\n",
    "    \"\"\"\n",
    "    stripped_version = query\n",
    "    if query.find('[') != -1:\n",
    "        stripped_version = query[0:query.find('[')] + query[query.find(']')+1:len(query)]\n",
    "        return strip_query_intervals(stripped_version)\n",
    "    else:\n",
    "        return stripped_version"
   ]
  },
  {
   "cell_type": "code",
   "execution_count": 8,
   "metadata": {
    "collapsed": true
   },
   "outputs": [],
   "source": [
    "def return_unique_query_words(query):\n",
    "    \"\"\"\n",
    "    Making sure the list of ids only contain every word once so the same word wont be checked twice.\n",
    "    Converting the list to set.\n",
    "    \"\"\"\n",
    "    query_words = strip_query_intervals(query)\n",
    "\n",
    "    return set(query_words.split())"
   ]
  },
  {
   "cell_type": "code",
   "execution_count": 9,
   "metadata": {
    "collapsed": true
   },
   "outputs": [],
   "source": [
    "def testIfNumber(x):\n",
    "    try:\n",
    "        int(x)\n",
    "        return True\n",
    "    except:\n",
    "        return False"
   ]
  },
  {
   "cell_type": "code",
   "execution_count": 10,
   "metadata": {},
   "outputs": [],
   "source": [
    "def preprocess_query(query):    \n",
    "    splittet_query = re.split('[ ]', query)\n",
    "    clean_query = []\n",
    "    for element in splittet_query:\n",
    "        element = element.replace('[', '')\n",
    "        element = element.replace(']', '')\n",
    "        element = element.replace(',', '')\n",
    "        clean_query.append(element)\n",
    "\n",
    "    res_query = []\n",
    "\n",
    "    for (idx, element) in enumerate(clean_query):\n",
    "        if testIfNumber(element):\n",
    "            if testIfNumber(clean_query[idx+1]):\n",
    "                # get numbers here\n",
    "                new_list = []\n",
    "                new_list.append(int(element))\n",
    "                new_list.append(int(clean_query[idx+1]))\n",
    "                res_query.append(new_list)\n",
    "        else:\n",
    "            res_query.append(element)\n",
    "\n",
    "    print(res_query)\n",
    "    return res_query"
   ]
  },
  {
   "cell_type": "code",
   "execution_count": 13,
   "metadata": {
    "collapsed": true
   },
   "outputs": [],
   "source": [
    "def main_function(query_param):\n",
    "    \"\"\"\n",
    "    This is the main function. Firstly the query is being stripped for the intervals and chopped into\n",
    "    substrings containing only 1 word each. Then the articles occur in is found and intersected with the other\n",
    "    words articles. Finally the function loops through all the intersected articles to see if the query holds.\n",
    "    \"\"\"\n",
    "\n",
    "    try:\n",
    "        word_list = return_unique_query_words(query_param)\n",
    "        common_articles = find_common_articles(word_list)\n",
    "    except FileNotFoundError:\n",
    "        print('File not found!')\n",
    "    except TypeErrir:\n",
    "        print('Could not find intersection of empty list')\n",
    "    \n",
    "    #Run the query function for each article\n",
    "    for article in common_articles:\n",
    "        text = open(ARTICLE_DIR + '/' + article + '.txt', 'r').read()\n",
    "        preprocessed_query = preprocess_query(query_param)\n",
    "        query(text, preprocessed_query)\n"
   ]
  },
  {
   "cell_type": "code",
   "execution_count": null,
   "metadata": {},
   "outputs": [
    {
     "name": "stdout",
     "output_type": "stream",
     "text": [
      "['cat', [2, 4], 'noise']\n"
     ]
    }
   ],
   "source": [
    "main_function('cat [2, 4] noise')"
   ]
  },
  {
   "cell_type": "code",
   "execution_count": null,
   "metadata": {
    "scrolled": true
   },
   "outputs": [],
   "source": [
    "if __name__ == \"__main__\":\n",
    "    import sys\n",
    "    query_string = (sys.argv[1])\n",
    "\n",
    "    main_function(query_string)"
   ]
  }
 ],
 "metadata": {
  "kernelspec": {
   "display_name": "Python 3",
   "language": "python",
   "name": "python3"
  },
  "language_info": {
   "codemirror_mode": {
    "name": "ipython",
    "version": 3
   },
   "file_extension": ".py",
   "mimetype": "text/x-python",
   "name": "python",
   "nbconvert_exporter": "python",
   "pygments_lexer": "ipython3",
   "version": "3.6.2"
  }
 },
 "nbformat": 4,
 "nbformat_minor": 2
}
