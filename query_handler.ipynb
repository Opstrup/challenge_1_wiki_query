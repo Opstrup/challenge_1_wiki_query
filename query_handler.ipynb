{
 "cells": [
  {
   "cell_type": "markdown",
   "metadata": {},
   "source": [
    "Read file line by line\n",
    "Run query on each line\n",
    "Write result out to file"
   ]
  },
  {
   "cell_type": "code",
   "execution_count": 6,
   "metadata": {
    "collapsed": true
   },
   "outputs": [],
   "source": [
    "import re\n",
    "\n",
    "RESULT_FILE = 'query_results.txt'"
   ]
  },
  {
   "cell_type": "code",
   "execution_count": 7,
   "metadata": {
    "collapsed": true
   },
   "outputs": [],
   "source": [
    "def file_reader(file):\n",
    "    with open(file) as infile:\n",
    "        for line in infile:\n",
    "            print(line)"
   ]
  },
  {
   "cell_type": "code",
   "execution_count": 8,
   "metadata": {
    "collapsed": true
   },
   "outputs": [],
   "source": [
    "def write_result_to_file(result):\n",
    "    # write to file here.\n",
    "    file = open(RESULT_FILE, 'a')\n",
    "    file.write(result +'\\n')\n",
    "    file.close()"
   ]
  },
  {
   "cell_type": "code",
   "execution_count": 9,
   "metadata": {
    "collapsed": true
   },
   "outputs": [],
   "source": [
    "def query(string, *args):\n",
    "    \"\"\"\n",
    "    Takes a string from the file as first parameter.\n",
    "    The args parameter is the query it self in the format of:\n",
    "    ['cat', [2, 4], 'hat']\n",
    "    \"\"\"\n",
    "    if args is None:\n",
    "        return\n",
    "    \n",
    "    for query in args:\n",
    "        # seperate query into parameters\n",
    "        start_word = query[0]\n",
    "        end_word = query[2]\n",
    "        lower_bound = query[1][0]\n",
    "        upper_bound = query[1][1]\n",
    "        \n",
    "        # build regexs\n",
    "        start_word_regex = r\"\\b\" + re.escape(start_word) + r\"\\b\"\n",
    "        end_word_regex = r\"\\b\" + re.escape(end_word) + r\"\\b\"\n",
    "        \n",
    "        # find substring positions\n",
    "        start_word_pos = re.search(start_word_regex, string)\n",
    "        end_word_pos = re.search(end_word_regex, string)\n",
    "\n",
    "        # calc distance between words\n",
    "        char_between = end_word_pos.start() - start_word_pos.end()\n",
    "\n",
    "        if char_between >= lower_bound and char_between <= upper_bound:\n",
    "            result = string[start_word_pos.start(): end_word_pos.end()]\n",
    "            # write result to file\n",
    "            write_result_to_file(result)"
   ]
  },
  {
   "cell_type": "code",
   "execution_count": 10,
   "metadata": {
    "collapsed": true
   },
   "outputs": [],
   "source": [
    "test_string = 'I have a really nice cat in hat at home'\n",
    "test_query = ['cat', [2, 4], 'hat']\n",
    "test_query2 = ['I', [2, 6], 'a']\n",
    "query(test_string, test_query, test_query2)"
   ]
  },
  {
   "cell_type": "code",
   "execution_count": null,
   "metadata": {
    "collapsed": true
   },
   "outputs": [],
   "source": []
  }
 ],
 "metadata": {
  "kernelspec": {
   "display_name": "Python 3",
   "language": "python",
   "name": "python3"
  },
  "language_info": {
   "codemirror_mode": {
    "name": "ipython",
    "version": 3
   },
   "file_extension": ".py",
   "mimetype": "text/x-python",
   "name": "python",
   "nbconvert_exporter": "python",
   "pygments_lexer": "ipython3",
   "version": "3.6.2"
  }
 },
 "nbformat": 4,
 "nbformat_minor": 2
}
