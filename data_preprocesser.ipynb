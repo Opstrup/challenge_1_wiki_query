{
 "cells": [
  {
   "cell_type": "code",
   "execution_count": 1,
   "metadata": {
    "collapsed": true
   },
   "outputs": [],
   "source": [
    "import xml.etree.ElementTree as ET\n",
    "XML_NAMESPACE = '{http://www.mediawiki.org/xml/export-0.10/}'\n",
    "WIKI_TXT_FILE = 'wiki_txt_file.txt'"
   ]
  },
  {
   "cell_type": "code",
   "execution_count": 2,
   "metadata": {
    "collapsed": true
   },
   "outputs": [],
   "source": [
    "def get_text_in_xml_document(document):\n",
    "    \"\"\"\n",
    "    Reads in an xml file, finds the text element in the document.\n",
    "    Returns the string of the text element\n",
    "    \"\"\"\n",
    "    document = ET.parse(document)\n",
    "    root = document.getroot()\n",
    "    \n",
    "    page = root.find(XML_NAMESPACE + 'page')\n",
    "    revision = page.find(XML_NAMESPACE + 'revision')\n",
    "    text = revision.find(XML_NAMESPACE + 'text')\n",
    "\n",
    "    return text.text"
   ]
  },
  {
   "cell_type": "code",
   "execution_count": 3,
   "metadata": {
    "collapsed": true
   },
   "outputs": [],
   "source": [
    "def clean_up_text(text):\n",
    "    \"\"\"\n",
    "    Convert linebreaks to whitespaces \n",
    "    Delete continuous whitespaces\n",
    "    Convert upper case to lower case\n",
    "    \"\"\"\n",
    "    clean_text = text.lower()\n",
    "    clean_text = ' '.join(clean_text.split())\n",
    "\n",
    "    return clean_text"
   ]
  },
  {
   "cell_type": "code",
   "execution_count": 18,
   "metadata": {
    "collapsed": true
   },
   "outputs": [],
   "source": [
    "def write_to_file(text):\n",
    "    \"\"\"\n",
    "    Opens the text file and writes the text content from the xml document as new line.\n",
    "    If the file does not exists it creates the file.\n",
    "    \"\"\"\n",
    "    file = open(WIKI_TXT_FILE, 'a')\n",
    "    file.write(text +'\\n')\n",
    "    file.close()"
   ]
  },
  {
   "cell_type": "code",
   "execution_count": 20,
   "metadata": {
    "collapsed": true
   },
   "outputs": [],
   "source": [
    "def write_text_xml_content_to_file(file):\n",
    "    \"\"\"\n",
    "    Takes an xml document as argument and writes the text content of the document to a file.\n",
    "    It cleans up the text aswell.\n",
    "    \"\"\"\n",
    "    text = get_text_in_xml_document(file)\n",
    "    clean_text = clean_up_text(text)\n",
    "    write_to_file(clean_text)"
   ]
  }
 ],
 "metadata": {
  "kernelspec": {
   "display_name": "Python 3",
   "language": "python",
   "name": "python3"
  },
  "language_info": {
   "codemirror_mode": {
    "name": "ipython",
    "version": 3
   },
   "file_extension": ".py",
   "mimetype": "text/x-python",
   "name": "python",
   "nbconvert_exporter": "python",
   "pygments_lexer": "ipython3",
   "version": "3.6.2"
  }
 },
 "nbformat": 4,
 "nbformat_minor": 2
}
