{
 "cells": [
  {
   "cell_type": "markdown",
   "metadata": {},
   "source": [
    "### Todo\n",
    "* Extract body text - <strong>[DONE]</strong>\n",
    "* Extract article id - <strong>[DONE]</strong>\n",
    "* Write body text to file with article id - <strong>[DONE]</strong>\n",
    "* Create txt file for each word in body text  - <strong>[DONE]</strong>\n",
    "* Store all word information in the file  - <strong>[DONE]</strong>\n",
    "\n",
    "Example of lookup dic <br>\n",
    "Filename: cat.txt <br>\n",
    "Format:"
   ]
  },
  {
   "cell_type": "code",
   "execution_count": null,
   "metadata": {},
   "outputs": [],
   "source": [
    "{\n",
    "    \"article_id\" : [\n",
    "                        { \n",
    "                            \"start_pos\" : 0,\n",
    "                            \"end_pos\" : 2\n",
    "                        },\n",
    "                        {\n",
    "                            \"start_pos\" : 5,\n",
    "                            \"end_pos\" : 7\n",
    "                        }\n",
    "                       ],\n",
    "    \"article_id\" : [\n",
    "                        { \n",
    "                            \"start_pos\" : 0,\n",
    "                            \"end_pos\" : 2\n",
    "                        },\n",
    "                        {\n",
    "                            \"start_pos\" : 5,\n",
    "                            \"end_pos\" : 7\n",
    "                        }\n",
    "                       ]\n",
    "}"
   ]
  },
  {
   "cell_type": "code",
   "execution_count": null,
   "metadata": {},
   "outputs": [],
   "source": [
    "[12312, 123124, 123123, 123123]"
   ]
  },
  {
   "cell_type": "code",
   "execution_count": 1,
   "metadata": {
    "collapsed": true
   },
   "outputs": [],
   "source": [
    "import xml.etree.ElementTree as ET\n",
    "import os\n",
    "XML_NAMESPACE = '{http://www.mediawiki.org/xml/export-0.10/}'\n",
    "# this filter could be too harsh\n",
    "BLACK_LISTED_CHARS = ['/', '|', '=', ']]', '[[', '_', 'أعلام', '}}', '{{']"
   ]
  },
  {
   "cell_type": "code",
   "execution_count": 2,
   "metadata": {
    "collapsed": true
   },
   "outputs": [],
   "source": [
    "def get_xml_content(document):\n",
    "    \"\"\"\n",
    "    Reads in an xml file.\n",
    "    Returns a tuple containing the article title and the body text\n",
    "    \"\"\"\n",
    "    document = ET.parse(document)\n",
    "    root = document.getroot()\n",
    "    \n",
    "    page = root.find(XML_NAMESPACE + 'page')\n",
    "    revision = page.find(XML_NAMESPACE + 'revision')\n",
    "    article_id = page.find(XML_NAMESPACE + 'id')\n",
    "    text = revision.find(XML_NAMESPACE + 'text')\n",
    "\n",
    "    return (article_id.text, text.text)"
   ]
  },
  {
   "cell_type": "code",
   "execution_count": 8,
   "metadata": {
    "collapsed": true
   },
   "outputs": [],
   "source": [
    "def clean_up_body_text(text):\n",
    "    \"\"\"\n",
    "    Convert linebreaks to whitespaces \n",
    "    Delete continuous whitespaces\n",
    "    Convert upper case to lower case\n",
    "    \"\"\"\n",
    "    clean_text = text.lower()\n",
    "    clean_text = ' '.join(clean_text.split())\n",
    "\n",
    "    return clean_text"
   ]
  },
  {
   "cell_type": "code",
   "execution_count": 13,
   "metadata": {
    "collapsed": true
   },
   "outputs": [],
   "source": [
    "def create_article_file(filename, text):\n",
    "    \"\"\"\n",
    "    Creates a pretty formatted file with name of the article id,\n",
    "    containing the article body text.\n",
    "    If the file does not exists it creates the file.\n",
    "    \"\"\"\n",
    "    if not os.path.exists('articles/'):\n",
    "        os.mkdir('articles/')\n",
    "    \n",
    "    file = open('articles/' + filename + '.txt', 'a')\n",
    "    file.write(text)\n",
    "    file.close()"
   ]
  },
  {
   "cell_type": "code",
   "execution_count": 14,
   "metadata": {
    "collapsed": true
   },
   "outputs": [],
   "source": [
    "def write_text_xml_content_to_file(file):\n",
    "    \"\"\"\n",
    "    Takes an xml document as argument and writes the text content of the document to a file.\n",
    "    It cleans up the text aswell.\n",
    "    \"\"\"\n",
    "    (article_id, body_text) = get_xml_content(file)\n",
    "    clean_text = clean_up_body_text(body_text)\n",
    "    create_article_file(article_id, clean_text)"
   ]
  },
  {
   "cell_type": "code",
   "execution_count": 15,
   "metadata": {},
   "outputs": [],
   "source": [
    "def create_formatted_file_for_each_word(file):\n",
    "    \"\"\"\n",
    "    Creates a formatted file for each word in the given article.\n",
    "    The files are stored in the folder /word_files\n",
    "    \"\"\"\n",
    "    with open(file, 'r') as article:\n",
    "        body_text = article.read()\n",
    "        \n",
    "    splitted_body_text = body_text.split()\n",
    "    uniq_words_in_body_text = set(splitted_body_text)\n",
    "    \n",
    "    # gets the article id from the filename\n",
    "    article_id = file.split('.')[0]\n",
    "    \n",
    "    if not os.path.exists('word_files/'):\n",
    "        os.mkdir('word_files/')\n",
    "    \n",
    "    legal_word = True\n",
    "\n",
    "    for word in uniq_words_in_body_text:\n",
    "        # check if word contains a black listed char\n",
    "        for char in BLACK_LISTED_CHARS:\n",
    "            if char in word:\n",
    "                legal_word = False\n",
    "\n",
    "        if legal_word:\n",
    "            with open('word_files/' + word + '.txt', 'a') as file:\n",
    "                file.write(article_id + '\\n')\n",
    "        legal_word = True"
   ]
  },
  {
   "cell_type": "markdown",
   "metadata": {},
   "source": [
    "The files below are just some extra handmade test files."
   ]
  },
  {
   "cell_type": "code",
   "execution_count": null,
   "metadata": {},
   "outputs": [],
   "source": [
    "create_formatted_file_for_each_word('15.txt')"
   ]
  },
  {
   "cell_type": "code",
   "execution_count": null,
   "metadata": {
    "collapsed": true
   },
   "outputs": [],
   "source": [
    "create_formatted_file_for_each_word('89.txt')"
   ]
  },
  {
   "cell_type": "code",
   "execution_count": null,
   "metadata": {
    "collapsed": true
   },
   "outputs": [],
   "source": [
    "create_formatted_file_for_each_word('12.txt')"
   ]
  },
  {
   "cell_type": "code",
   "execution_count": null,
   "metadata": {
    "collapsed": true
   },
   "outputs": [],
   "source": []
  }
 ],
 "metadata": {
  "kernelspec": {
   "display_name": "Python 3",
   "language": "python",
   "name": "python3"
  },
  "language_info": {
   "codemirror_mode": {
    "name": "ipython",
    "version": 3
   },
   "file_extension": ".py",
   "mimetype": "text/x-python",
   "name": "python",
   "nbconvert_exporter": "python",
   "pygments_lexer": "ipython3",
   "version": "3.6.2"
  }
 },
 "nbformat": 4,
 "nbformat_minor": 2
}
