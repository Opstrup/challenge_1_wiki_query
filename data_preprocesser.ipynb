{
 "cells": [
  {
   "cell_type": "markdown",
   "metadata": {},
   "source": [
    "### Todo\n",
    "* Extract body text - <strong>[DONE]</strong>\n",
    "* Extract article id - <strong>[DONE]</strong>\n",
    "* Write body text to file with article id - <strong>[DONE]</strong>\n",
    "* Create txt file for each word in body text\n",
    "* Store all word information in the file\n",
    "\n",
    "Example of lookup dic <br>\n",
    "Filename: cat.txt <br>\n",
    "Format:"
   ]
  },
  {
   "cell_type": "code",
   "execution_count": 2,
   "metadata": {},
   "outputs": [
    {
     "data": {
      "text/plain": [
       "{'article_name_1': [{'end_pos': 2, 'start_pos': 0},\n",
       "  {'end_pos': 7, 'start_pos': 5}],\n",
       " 'article_name_2': [{'end_pos': 2, 'start_pos': 0},\n",
       "  {'end_pos': 7, 'start_pos': 5}]}"
      ]
     },
     "execution_count": 2,
     "metadata": {},
     "output_type": "execute_result"
    }
   ],
   "source": [
    "{\n",
    "    \"article_id\" : [\n",
    "                        { \n",
    "                            \"start_pos\" : 0,\n",
    "                            \"end_pos\" : 2\n",
    "                        },\n",
    "                        {\n",
    "                            \"start_pos\" : 5,\n",
    "                            \"end_pos\" : 7\n",
    "                        }\n",
    "                       ],\n",
    "    \"article_id\" : [\n",
    "                        { \n",
    "                            \"start_pos\" : 0,\n",
    "                            \"end_pos\" : 2\n",
    "                        },\n",
    "                        {\n",
    "                            \"start_pos\" : 5,\n",
    "                            \"end_pos\" : 7\n",
    "                        }\n",
    "                       ]\n",
    "}"
   ]
  },
  {
   "cell_type": "code",
   "execution_count": 6,
   "metadata": {
    "collapsed": true
   },
   "outputs": [],
   "source": [
    "import xml.etree.ElementTree as ET\n",
    "XML_NAMESPACE = '{http://www.mediawiki.org/xml/export-0.10/}'"
   ]
  },
  {
   "cell_type": "code",
   "execution_count": 11,
   "metadata": {
    "collapsed": true
   },
   "outputs": [],
   "source": [
    "def get_xml_content(document):\n",
    "    \"\"\"\n",
    "    Reads in an xml file.\n",
    "    Returns a tuple containing the article title and the body text\n",
    "    \"\"\"\n",
    "    document = ET.parse(document)\n",
    "    root = document.getroot()\n",
    "    \n",
    "    page = root.find(XML_NAMESPACE + 'page')\n",
    "    revision = page.find(XML_NAMESPACE + 'revision')\n",
    "    article_id = page.find(XML_NAMESPACE + 'id')\n",
    "    text = revision.find(XML_NAMESPACE + 'text')\n",
    "\n",
    "    return (article_id.text, text.text)"
   ]
  },
  {
   "cell_type": "code",
   "execution_count": 3,
   "metadata": {
    "collapsed": true
   },
   "outputs": [],
   "source": [
    "def clean_up_body_text(text):\n",
    "    \"\"\"\n",
    "    Convert linebreaks to whitespaces \n",
    "    Delete continuous whitespaces\n",
    "    Convert upper case to lower case\n",
    "    \"\"\"\n",
    "    clean_text = text.lower()\n",
    "    clean_text = ' '.join(clean_text.split())\n",
    "\n",
    "    return clean_text"
   ]
  },
  {
   "cell_type": "code",
   "execution_count": 13,
   "metadata": {
    "collapsed": true
   },
   "outputs": [],
   "source": [
    "def create_article_file(filename, text):\n",
    "    \"\"\"\n",
    "    Creates a pretty formatted file with name of the article id,\n",
    "    containing the article body text.\n",
    "    If the file does not exists it creates the file.\n",
    "    \"\"\"\n",
    "    file = open(filename, 'a')\n",
    "    file.write(text)\n",
    "    file.close()"
   ]
  },
  {
   "cell_type": "code",
   "execution_count": 14,
   "metadata": {
    "collapsed": true
   },
   "outputs": [],
   "source": [
    "def write_text_xml_content_to_file(file):\n",
    "    \"\"\"\n",
    "    Takes an xml document as argument and writes the text content of the document to a file.\n",
    "    It cleans up the text aswell.\n",
    "    \"\"\"\n",
    "    (article_id, body_text) = get_xml_content(file)\n",
    "    clean_body_text = clean_body_text(body_text)\n",
    "    create_article_file(article_id, clean_body_text)"
   ]
  },
  {
   "cell_type": "code",
   "execution_count": null,
   "metadata": {
    "collapsed": true
   },
   "outputs": [],
   "source": []
  }
 ],
 "metadata": {
  "kernelspec": {
   "display_name": "Python 3",
   "language": "python",
   "name": "python3"
  },
  "language_info": {
   "codemirror_mode": {
    "name": "ipython",
    "version": 3
   },
   "file_extension": ".py",
   "mimetype": "text/x-python",
   "name": "python",
   "nbconvert_exporter": "python",
   "pygments_lexer": "ipython3",
   "version": "3.6.2"
  }
 },
 "nbformat": 4,
 "nbformat_minor": 2
}
