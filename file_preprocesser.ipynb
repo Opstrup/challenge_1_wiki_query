{
 "cells": [
  {
   "cell_type": "code",
   "execution_count": 39,
   "metadata": {
    "collapsed": true
   },
   "outputs": [],
   "source": [
    "from data_preprocesser import write_text_xml_content_to_file\n",
    "import glob\n",
    "XML_FOLDER = 'test_xml'"
   ]
  },
  {
   "cell_type": "code",
   "execution_count": 56,
   "metadata": {},
   "outputs": [],
   "source": [
    "def get_xml_documents_filepaths(folder):\n",
    "    files = glob.glob(folder + '/*.xml')\n",
    "    return files"
   ]
  },
  {
   "cell_type": "code",
   "execution_count": 59,
   "metadata": {
    "collapsed": true
   },
   "outputs": [],
   "source": [
    "def process_all_xml_files_in_folder(folder):\n",
    "    xml_files = get_xml_documents_filepaths(folder)\n",
    "    for xml_file in xml_files:\n",
    "        write_text_xml_content_to_file(xml_file)"
   ]
  },
  {
   "cell_type": "code",
   "execution_count": null,
   "metadata": {
    "collapsed": true
   },
   "outputs": [],
   "source": []
  }
 ],
 "metadata": {
  "kernelspec": {
   "display_name": "Python 3",
   "language": "python",
   "name": "python3"
  },
  "language_info": {
   "codemirror_mode": {
    "name": "ipython",
    "version": 3
   },
   "file_extension": ".py",
   "mimetype": "text/x-python",
   "name": "python",
   "nbconvert_exporter": "python",
   "pygments_lexer": "ipython3",
   "version": "3.6.2"
  }
 },
 "nbformat": 4,
 "nbformat_minor": 2
}
