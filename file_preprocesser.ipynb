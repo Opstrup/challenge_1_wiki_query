{
 "cells": [
  {
   "cell_type": "code",
   "execution_count": 6,
   "metadata": {
    "collapsed": true
   },
   "outputs": [],
   "source": [
    "from data_preprocesser import create_formatted_file_for_each_word, write_text_xml_content_to_file\n",
    "import glob\n",
    "XML_FOLDER = 'test_xml'\n",
    "ARTICEL_FOLDER = 'articles'"
   ]
  },
  {
   "cell_type": "code",
   "execution_count": 7,
   "metadata": {
    "collapsed": true
   },
   "outputs": [],
   "source": [
    "def get_xml_documents_filepaths(folder):\n",
    "    \"\"\"\n",
    "    Takes a filepath as argument.\n",
    "    Returns a list with all .xml documents within the folder.\n",
    "    \"\"\"\n",
    "    files = glob.glob(folder + '/*.xml')\n",
    "    return files"
   ]
  },
  {
   "cell_type": "code",
   "execution_count": 8,
   "metadata": {
    "collapsed": true
   },
   "outputs": [],
   "source": [
    "def get_articels_filepaths(folder):\n",
    "    \"\"\"\n",
    "    Takes a filepath as argument.\n",
    "    Returns a list with all .txt articels within the folder.\n",
    "    \"\"\"\n",
    "    files = glob.glob(folder + '/*.txt')\n",
    "    return files"
   ]
  },
  {
   "cell_type": "code",
   "execution_count": 10,
   "metadata": {},
   "outputs": [],
   "source": [
    "def process_all_xml_files_in_folder(folder=XML_FOLDER, articel_folder=ARTICEL_FOLDER):\n",
    "    \"\"\"\n",
    "    Processes all .xml documents within the given folder.\n",
    "    Uses the data_preprocesser module as underlying logic.\n",
    "    \"\"\"\n",
    "    xml_files = get_xml_documents_filepaths(folder)\n",
    "    for xml_file in xml_files:\n",
    "        write_text_xml_content_to_file(xml_file)\n",
    "    \n",
    "    articels = get_articels_filepaths(articel_folder)\n",
    "    for articel in articels:\n",
    "        create_formatted_file_for_each_word(articel)"
   ]
  },
  {
   "cell_type": "code",
   "execution_count": null,
   "metadata": {
    "collapsed": true
   },
   "outputs": [],
   "source": [
    "if __name__ == \"__main__\":\n",
    "    import sys\n",
    "    process_all_xml_files_in_folder(sys.argv[1], sys.argv[2])"
   ]
  }
 ],
 "metadata": {
  "kernelspec": {
   "display_name": "Python 3",
   "language": "python",
   "name": "python3"
  },
  "language_info": {
   "codemirror_mode": {
    "name": "ipython",
    "version": 3
   },
   "file_extension": ".py",
   "mimetype": "text/x-python",
   "name": "python",
   "nbconvert_exporter": "python",
   "pygments_lexer": "ipython3",
   "version": "3.6.2"
  }
 },
 "nbformat": 4,
 "nbformat_minor": 2
}
